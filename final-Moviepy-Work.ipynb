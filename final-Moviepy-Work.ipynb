{
 "cells": [
  {
   "cell_type": "code",
   "execution_count": 1,
   "metadata": {
    "id": "1WKsxTlbF0vC"
   },
   "outputs": [],
   "source": [
    "from moviepy.editor import ImageClip, concatenate\n",
    "import moviepy.video.fx.all as vfx\n",
    "\n",
    "from skimage import transform\n",
    "import numpy as np"
   ]
  },
  {
   "cell_type": "code",
   "execution_count": 2,
   "metadata": {
    "id": "CcDptFC-NGa4"
   },
   "outputs": [],
   "source": [
    "from natsort import natsorted\n",
    "import glob\n",
    "from moviepy.editor import *"
   ]
  },
  {
   "cell_type": "code",
   "execution_count": 19,
   "metadata": {},
   "outputs": [],
   "source": [
    "images_path=r'C:\\Users\\user\\Downloads\\MLF Video Dimensions\\planckly_images\\Images\\images'\n",
    "template_path=r'C:\\Users\\user\\Downloads\\MLF Video Dimensions\\Planckly_template.mp4'\n",
    "User_clip_path=r'C:\\Users\\user\\Downloads\\MLF Video Dimensions\\zain.mp4'\n",
    "audio=r'C:\\Users\\user\\Downloads\\MLF Video Dimensions\\music.wav'\n",
    "merged=r'C:\\Users\\user\\Downloads\\MLF Video Dimensions\\merged.mp4'\n",
    "text_video=r'C:\\Users\\user\\Downloads\\MLF Video Dimensions\\text_add_result.mov'"
   ]
  },
  {
   "cell_type": "code",
   "execution_count": 153,
   "metadata": {
    "colab": {
     "background_save": true
    },
    "id": "GZHcp2y9ccGO"
   },
   "outputs": [],
   "source": [
    "from moviepy.editor import *\n",
    "def zoomIn(t):\n",
    "    return 1 + 0.1*5*t  # Zoom-in.\n",
    "\n",
    "def zoomOut(t):\n",
    "    return 1+ 0.3 * (duration - t)\n",
    "\n",
    "\n",
    "def resize_func(t):\n",
    "    if t < 4:\n",
    "        return 1 + 0.3*t  # Zoom-in.\n",
    "    elif 4 <= t <= 6:\n",
    "        return 1 + 0.3*4  # Stay.\n",
    "    else: # 6 < t\n",
    "        return 1 + 0.3*(duration-t)  # Zoom-out.\n",
    "\n",
    "duration = 7\n",
    "screensize = (640,360)"
   ]
  },
  {
   "cell_type": "code",
   "execution_count": null,
   "metadata": {
    "id": "CJDsjLBJMxSS"
   },
   "outputs": [],
   "source": []
  },
  {
   "cell_type": "markdown",
   "metadata": {
    "id": "QG7xCCS3Mxt0"
   },
   "source": [
    "Final Code"
   ]
  },
  {
   "cell_type": "markdown",
   "metadata": {},
   "source": [
    "# 1.Create A Slide Show Video Clip"
   ]
  },
  {
   "cell_type": "code",
   "execution_count": 154,
   "metadata": {
    "id": "RIaYuGLqd7eo"
   },
   "outputs": [],
   "source": [
    "# def zoomIn(t):\n",
    "#   return 1 + 0.1 * t\n",
    "\n",
    "def slide_show(path=''):\n",
    "    img_clip=[]\n",
    "    duration=7\n",
    "    for image in natsorted(glob.glob(path+'/**.png')): #bug here only handle png images find another way to iterate\n",
    "        #print(image)\n",
    "        x=ImageClip(image).resize(lambda t : 1.7+0*t).set_position((45,150)).set_duration(7).set_fps(20)\n",
    "        img_clip.append(x)                  #1.7+0*t\n",
    "        #print(img_clip)\n",
    "        \n",
    "    video = concatenate(img_clip, method=\"compose\")\n",
    "    video.resize( (460,720) ) # New resolution: (460,720)\n",
    "    video.resize(2) # width and heigth multiplied by 0.6\n",
    "    # video.resize(width=800) # height computed automatically.\n",
    "    # video.resize(lambda t : 1+0.02*t) # slow swelling of the clip\n",
    "    return video.write_videofile('zain.mp4')\n"
   ]
  },
  {
   "cell_type": "code",
   "execution_count": 155,
   "metadata": {
    "colab": {
     "base_uri": "https://localhost:8080/"
    },
    "id": "bw0CaiJzM01g",
    "outputId": "a063fdd8-056b-46c1-f5c9-532b105f9e06"
   },
   "outputs": [
    {
     "name": "stdout",
     "output_type": "stream",
     "text": [
      "Moviepy - Building video zain.mp4.\n",
      "Moviepy - Writing video zain.mp4\n",
      "\n"
     ]
    },
    {
     "name": "stderr",
     "output_type": "stream",
     "text": [
      "                                                                                                                       \r"
     ]
    },
    {
     "name": "stdout",
     "output_type": "stream",
     "text": [
      "Moviepy - Done !\n",
      "Moviepy - video ready zain.mp4\n"
     ]
    }
   ],
   "source": [
    "Slide_Show=slide_show(images_path)"
   ]
  },
  {
   "cell_type": "code",
   "execution_count": 157,
   "metadata": {},
   "outputs": [],
   "source": [
    "# template_path=VideoFileClip(template_path).subclip(3,27)\n",
    "# template_path.write_videofile('Planckly_template_1.mp4')"
   ]
  },
  {
   "cell_type": "markdown",
   "metadata": {},
   "source": [
    "# 2. Placing the Slide Show Video in a given Template Video & add sound "
   ]
  },
  {
   "cell_type": "code",
   "execution_count": 9,
   "metadata": {},
   "outputs": [],
   "source": [
    "#Note: Adding sound to the video in my laptop not working but in cloud like google colab it's perfectly working fine"
   ]
  },
  {
   "cell_type": "code",
   "execution_count": 158,
   "metadata": {
    "id": "n767F9EiRHIh"
   },
   "outputs": [],
   "source": [
    "def placing_template(template_path,User_clip_path,audio):\n",
    "    planckly_clip = VideoFileClip(template_path)\n",
    "    planckly_clip= planckly_clip.subclip(3,27)\n",
    "    #user_clip= VideoFileClip(\"/content/z1.mp4\")\n",
    "    w , h = planckly_clip.size\n",
    "    \n",
    "    user_clip=(VideoFileClip(User_clip_path,audio=False).\n",
    "               subclip(0,25).\n",
    "               resize((w/2.10,h/1.77)).    # one third of the total screen\n",
    "               margin( 6,color=(255,255,255)).  #white margin\n",
    "               margin( bottom=20, right=20, opacity=0)\n",
    "               .set_pos((867,250))) #set_pos( lambda t: (\"left\" if (t<0) else min(866,1000*(t-0)),max(1.4*h/6,int(10*t/5)))))\n",
    "                                    #use above set_pos for moving slide\n",
    "    \n",
    "    \n",
    "    dura=int(planckly_clip.duration)\n",
    "    user_clip=user_clip.subclip(0,dura)\n",
    "    \n",
    "    \n",
    "    final = CompositeVideoClip([planckly_clip,user_clip])#.set_audio(audio_clip)\n",
    "    final.set_audio(AudioFileClip(audio))\n",
    "    final.write_videofile('merged.mp4')\n",
    "\n"
   ]
  },
  {
   "cell_type": "code",
   "execution_count": 159,
   "metadata": {},
   "outputs": [
    {
     "name": "stdout",
     "output_type": "stream",
     "text": [
      "Moviepy - Building video merged.mp4.\n",
      "Moviepy - Writing video merged.mp4\n",
      "\n"
     ]
    },
    {
     "name": "stderr",
     "output_type": "stream",
     "text": [
      "                                                                                                                       \r"
     ]
    },
    {
     "name": "stdout",
     "output_type": "stream",
     "text": [
      "Moviepy - Done !\n",
      "Moviepy - video ready merged.mp4\n"
     ]
    }
   ],
   "source": [
    "placing_template(template_path,User_clip_path,audio)"
   ]
  },
  {
   "cell_type": "markdown",
   "metadata": {},
   "source": [
    "# 3.Adding Text to in a video specified location"
   ]
  },
  {
   "cell_type": "code",
   "execution_count": 4,
   "metadata": {},
   "outputs": [],
   "source": [
    "import moviepy.editor as mp"
   ]
  },
  {
   "cell_type": "code",
   "execution_count": 16,
   "metadata": {
    "id": "PNNHmF8CpNiP"
   },
   "outputs": [],
   "source": [
    "def add_text_anim(video_path):\n",
    "    my_video = mp.VideoFileClip(video_path, audio=True)\n",
    "    w,h = moviesize = my_video.size\n",
    "    my_text = mp.TextClip(\"Sale UPTO 50%,\\n Save 50% Cashback.\\n Made by: Zain\",font='Courier' ,\n",
    "                          color='white', fontsize=44, stroke_width=1)\n",
    "    txt_col = my_text.on_color(size=(my_text.w + 10, my_text.h), color=(0,0,0), pos=(2,'center'),col_opacity=0.3)\n",
    "    txt_col=txt_col.add_mask().rotate(6, unit='deg', expand=True)\n",
    "    txt_mov = txt_col.set_pos( lambda t: (\"left\" if (t<0) else min(167,1000*(t-0)),max(2.7*h/6,int(10*t/5))))\n",
    "    final = CompositeVideoClip([my_video,txt_mov]).set_duration(25)\n",
    "    final.write_videofile(\"text_add_result.mov\",fps=24,codec=\"libx264\") #shayad extension ka masla hai kal check karna parey ga."
   ]
  },
  {
   "cell_type": "code",
   "execution_count": 17,
   "metadata": {},
   "outputs": [
    {
     "name": "stdout",
     "output_type": "stream",
     "text": [
      "Moviepy - Building video text_add_result.mov.\n",
      "Moviepy - Writing video text_add_result.mov\n",
      "\n"
     ]
    },
    {
     "name": "stderr",
     "output_type": "stream",
     "text": [
      "                                                                                                                       \r"
     ]
    },
    {
     "name": "stdout",
     "output_type": "stream",
     "text": [
      "Moviepy - Done !\n",
      "Moviepy - video ready text_add_result.mov\n"
     ]
    }
   ],
   "source": [
    "add_text_anim(merged)"
   ]
  },
  {
   "cell_type": "markdown",
   "metadata": {},
   "source": [
    "# 4. Adding Sound"
   ]
  },
  {
   "cell_type": "code",
   "execution_count": 18,
   "metadata": {},
   "outputs": [],
   "source": [
    "from moviepy.editor import *\n",
    "from moviepy.editor import (VideoFileClip, AudioFileClip)\n",
    "\n",
    "def Audio_in_video(VideoClip_path,AudioClip_path):\n",
    "    videoclip = VideoFileClip(VideoClip_path)\n",
    "    soundtrack = AudioFileClip(AudioClip_path)\n",
    "    videoclip.audio = soundtrack.audio_loop(duration=videoclip.duration)\n",
    "    videoclip.to_videofile('movie_with_music.mp4') #here mention the path where you want to save a video"
   ]
  },
  {
   "cell_type": "code",
   "execution_count": 20,
   "metadata": {},
   "outputs": [
    {
     "name": "stdout",
     "output_type": "stream",
     "text": [
      "Moviepy - Building video movie_with_music.mp4.\n",
      "MoviePy - Writing audio in movie_with_musicTEMP_MPY_wvf_snd.mp3\n"
     ]
    },
    {
     "name": "stderr",
     "output_type": "stream",
     "text": [
      "                                                                                                                       \r"
     ]
    },
    {
     "name": "stdout",
     "output_type": "stream",
     "text": [
      "MoviePy - Done.\n",
      "Moviepy - Writing video movie_with_music.mp4\n",
      "\n"
     ]
    },
    {
     "name": "stderr",
     "output_type": "stream",
     "text": [
      "                                                                                                                       \r"
     ]
    },
    {
     "name": "stdout",
     "output_type": "stream",
     "text": [
      "Moviepy - Done !\n",
      "Moviepy - video ready movie_with_music.mp4\n"
     ]
    }
   ],
   "source": [
    "Audio_in_video(text_video,audio)"
   ]
  },
  {
   "cell_type": "code",
   "execution_count": null,
   "metadata": {},
   "outputs": [],
   "source": []
  }
 ],
 "metadata": {
  "colab": {
   "collapsed_sections": [],
   "name": "Untitled18.ipynb",
   "provenance": []
  },
  "kernelspec": {
   "display_name": "Python 3",
   "language": "python",
   "name": "python3"
  },
  "language_info": {
   "codemirror_mode": {
    "name": "ipython",
    "version": 3
   },
   "file_extension": ".py",
   "mimetype": "text/x-python",
   "name": "python",
   "nbconvert_exporter": "python",
   "pygments_lexer": "ipython3",
   "version": "3.7.3"
  }
 },
 "nbformat": 4,
 "nbformat_minor": 1
}
