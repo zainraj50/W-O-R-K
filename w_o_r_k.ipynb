{
 "cells": [
  {
   "cell_type": "code",
   "execution_count": 23,
   "metadata": {},
   "outputs": [],
   "source": [
    "import pandas as pd\n",
    "import matplotlib.pyplot as plt\n",
    "import matplotlib.gridspec as gridspec\n",
    "import seaborn as sns\n",
    "import numpy as np\n",
    "import cx_Oracle\n",
    "import imageio"
   ]
  },
  {
   "cell_type": "markdown",
   "metadata": {},
   "source": [
    "# Connect to database"
   ]
  },
  {
   "cell_type": "code",
   "execution_count": 53,
   "metadata": {},
   "outputs": [],
   "source": [
    "con = cx_Oracle.connect(\"admin/Faiqalifarooqui12@eshop.cbp5pk0tdqap.us-east-2.rds.amazonaws.com:1521/orcl\")"
   ]
  },
  {
   "cell_type": "code",
   "execution_count": 54,
   "metadata": {},
   "outputs": [
    {
     "data": {
      "text/plain": [
       "'19.8.0.0.0'"
      ]
     },
     "execution_count": 54,
     "metadata": {},
     "output_type": "execute_result"
    }
   ],
   "source": [
    "con.version"
   ]
  },
  {
   "cell_type": "code",
   "execution_count": 55,
   "metadata": {},
   "outputs": [],
   "source": [
    "con.autocommit = True"
   ]
  },
  {
   "cell_type": "code",
   "execution_count": 5,
   "metadata": {},
   "outputs": [],
   "source": [
    "itemsdf = pd.read_sql_query(\"SELECT * FROM CART_OPTIMIZATION\",con)"
   ]
  },
  {
   "cell_type": "code",
   "execution_count": 7,
   "metadata": {},
   "outputs": [
    {
     "data": {
      "text/html": [
       "<div>\n",
       "<style scoped>\n",
       "    .dataframe tbody tr th:only-of-type {\n",
       "        vertical-align: middle;\n",
       "    }\n",
       "\n",
       "    .dataframe tbody tr th {\n",
       "        vertical-align: top;\n",
       "    }\n",
       "\n",
       "    .dataframe thead th {\n",
       "        text-align: right;\n",
       "    }\n",
       "</style>\n",
       "<table border=\"1\" class=\"dataframe\">\n",
       "  <thead>\n",
       "    <tr style=\"text-align: right;\">\n",
       "      <th></th>\n",
       "      <th>BRANCH_ID</th>\n",
       "      <th>ITEM_ID</th>\n",
       "      <th>ITEM_NAME</th>\n",
       "      <th>ITEM_CATEGORY_ID</th>\n",
       "      <th>ITEM_PROMOTION_ID</th>\n",
       "      <th>IS_PROMOTION</th>\n",
       "      <th>PROMOTION_ID</th>\n",
       "      <th>PROMOTION_NAME</th>\n",
       "      <th>PROMOTION_ON_BRANCH_OR_ITEM</th>\n",
       "      <th>ITEM_PROMOTION_TYPE</th>\n",
       "      <th>BUY_ITEMS</th>\n",
       "      <th>FREE_ITEMS</th>\n",
       "      <th>TOTAL_ITEM</th>\n",
       "      <th>DISCOUNT</th>\n",
       "      <th>VALUE</th>\n",
       "      <th>PROMOTIONAL_PRICE</th>\n",
       "      <th>ITEM_PRICE</th>\n",
       "    </tr>\n",
       "  </thead>\n",
       "  <tbody>\n",
       "    <tr>\n",
       "      <th>0</th>\n",
       "      <td>0415b61c72e24533b33c2d0b0f1a5ebf</td>\n",
       "      <td>2c9180837764bdd2017764bf94d1206a</td>\n",
       "      <td>¿¿¿¿¿¿¿¿¿¿¿8325</td>\n",
       "      <td>8fa6ff1038e7474d9041eb2deefa316c</td>\n",
       "      <td>None</td>\n",
       "      <td>0</td>\n",
       "      <td>None</td>\n",
       "      <td>None</td>\n",
       "      <td>None</td>\n",
       "      <td>None</td>\n",
       "      <td>NaN</td>\n",
       "      <td>NaN</td>\n",
       "      <td>NaN</td>\n",
       "      <td>NaN</td>\n",
       "      <td>NaN</td>\n",
       "      <td>0.5</td>\n",
       "      <td>0.5</td>\n",
       "    </tr>\n",
       "    <tr>\n",
       "      <th>1</th>\n",
       "      <td>0415b61c72e24533b33c2d0b0f1a5ebf</td>\n",
       "      <td>2c9180837764bdd2017764bf94d1206b</td>\n",
       "      <td>¿¿¿¿¿¿¿¿¿¿¿8326</td>\n",
       "      <td>8fa6ff1038e7474d9041eb2deefa316c</td>\n",
       "      <td>None</td>\n",
       "      <td>0</td>\n",
       "      <td>None</td>\n",
       "      <td>None</td>\n",
       "      <td>None</td>\n",
       "      <td>None</td>\n",
       "      <td>NaN</td>\n",
       "      <td>NaN</td>\n",
       "      <td>NaN</td>\n",
       "      <td>NaN</td>\n",
       "      <td>NaN</td>\n",
       "      <td>0.5</td>\n",
       "      <td>0.5</td>\n",
       "    </tr>\n",
       "    <tr>\n",
       "      <th>2</th>\n",
       "      <td>0415b61c72e24533b33c2d0b0f1a5ebf</td>\n",
       "      <td>2c9180837764bdd2017764bf94d1206c</td>\n",
       "      <td>¿¿¿¿¿¿¿¿¿¿¿8327</td>\n",
       "      <td>8fa6ff1038e7474d9041eb2deefa316c</td>\n",
       "      <td>None</td>\n",
       "      <td>0</td>\n",
       "      <td>None</td>\n",
       "      <td>None</td>\n",
       "      <td>None</td>\n",
       "      <td>None</td>\n",
       "      <td>NaN</td>\n",
       "      <td>NaN</td>\n",
       "      <td>NaN</td>\n",
       "      <td>NaN</td>\n",
       "      <td>NaN</td>\n",
       "      <td>0.5</td>\n",
       "      <td>0.5</td>\n",
       "    </tr>\n",
       "    <tr>\n",
       "      <th>3</th>\n",
       "      <td>0415b61c72e24533b33c2d0b0f1a5ebf</td>\n",
       "      <td>2c9180837764bdd2017764bf94d1206d</td>\n",
       "      <td>¿¿¿¿¿¿¿¿¿¿¿8328</td>\n",
       "      <td>8fa6ff1038e7474d9041eb2deefa316c</td>\n",
       "      <td>None</td>\n",
       "      <td>0</td>\n",
       "      <td>None</td>\n",
       "      <td>None</td>\n",
       "      <td>None</td>\n",
       "      <td>None</td>\n",
       "      <td>NaN</td>\n",
       "      <td>NaN</td>\n",
       "      <td>NaN</td>\n",
       "      <td>NaN</td>\n",
       "      <td>NaN</td>\n",
       "      <td>0.5</td>\n",
       "      <td>0.5</td>\n",
       "    </tr>\n",
       "    <tr>\n",
       "      <th>4</th>\n",
       "      <td>0415b61c72e24533b33c2d0b0f1a5ebf</td>\n",
       "      <td>2c9180837764bdd2017764bf94d1206e</td>\n",
       "      <td>¿¿¿¿¿¿¿¿¿¿¿8329</td>\n",
       "      <td>8fa6ff1038e7474d9041eb2deefa316c</td>\n",
       "      <td>None</td>\n",
       "      <td>0</td>\n",
       "      <td>None</td>\n",
       "      <td>None</td>\n",
       "      <td>None</td>\n",
       "      <td>None</td>\n",
       "      <td>NaN</td>\n",
       "      <td>NaN</td>\n",
       "      <td>NaN</td>\n",
       "      <td>NaN</td>\n",
       "      <td>NaN</td>\n",
       "      <td>0.5</td>\n",
       "      <td>0.5</td>\n",
       "    </tr>\n",
       "  </tbody>\n",
       "</table>\n",
       "</div>"
      ],
      "text/plain": [
       "                          BRANCH_ID                           ITEM_ID  \\\n",
       "0  0415b61c72e24533b33c2d0b0f1a5ebf  2c9180837764bdd2017764bf94d1206a   \n",
       "1  0415b61c72e24533b33c2d0b0f1a5ebf  2c9180837764bdd2017764bf94d1206b   \n",
       "2  0415b61c72e24533b33c2d0b0f1a5ebf  2c9180837764bdd2017764bf94d1206c   \n",
       "3  0415b61c72e24533b33c2d0b0f1a5ebf  2c9180837764bdd2017764bf94d1206d   \n",
       "4  0415b61c72e24533b33c2d0b0f1a5ebf  2c9180837764bdd2017764bf94d1206e   \n",
       "\n",
       "         ITEM_NAME                  ITEM_CATEGORY_ID ITEM_PROMOTION_ID  \\\n",
       "0  ¿¿¿¿¿¿¿¿¿¿¿8325  8fa6ff1038e7474d9041eb2deefa316c              None   \n",
       "1  ¿¿¿¿¿¿¿¿¿¿¿8326  8fa6ff1038e7474d9041eb2deefa316c              None   \n",
       "2  ¿¿¿¿¿¿¿¿¿¿¿8327  8fa6ff1038e7474d9041eb2deefa316c              None   \n",
       "3  ¿¿¿¿¿¿¿¿¿¿¿8328  8fa6ff1038e7474d9041eb2deefa316c              None   \n",
       "4  ¿¿¿¿¿¿¿¿¿¿¿8329  8fa6ff1038e7474d9041eb2deefa316c              None   \n",
       "\n",
       "  IS_PROMOTION PROMOTION_ID PROMOTION_NAME PROMOTION_ON_BRANCH_OR_ITEM  \\\n",
       "0            0         None           None                        None   \n",
       "1            0         None           None                        None   \n",
       "2            0         None           None                        None   \n",
       "3            0         None           None                        None   \n",
       "4            0         None           None                        None   \n",
       "\n",
       "  ITEM_PROMOTION_TYPE  BUY_ITEMS  FREE_ITEMS  TOTAL_ITEM  DISCOUNT  VALUE  \\\n",
       "0                None        NaN         NaN         NaN       NaN    NaN   \n",
       "1                None        NaN         NaN         NaN       NaN    NaN   \n",
       "2                None        NaN         NaN         NaN       NaN    NaN   \n",
       "3                None        NaN         NaN         NaN       NaN    NaN   \n",
       "4                None        NaN         NaN         NaN       NaN    NaN   \n",
       "\n",
       "   PROMOTIONAL_PRICE  ITEM_PRICE  \n",
       "0                0.5         0.5  \n",
       "1                0.5         0.5  \n",
       "2                0.5         0.5  \n",
       "3                0.5         0.5  \n",
       "4                0.5         0.5  "
      ]
     },
     "execution_count": 7,
     "metadata": {},
     "output_type": "execute_result"
    }
   ],
   "source": [
    "itemsdf.head()"
   ]
  },
  {
   "cell_type": "code",
   "execution_count": 25,
   "metadata": {},
   "outputs": [],
   "source": [
    " data_frame = pd.DataFrame(itemsdf) \n",
    " \n",
    " data_frame.to_csv('Planckly_Items.csv')"
   ]
  },
  {
   "cell_type": "code",
   "execution_count": null,
   "metadata": {},
   "outputs": [],
   "source": []
  },
  {
   "cell_type": "code",
   "execution_count": 6,
   "metadata": {},
   "outputs": [],
   "source": [
    "df=pd.read_sql_query(\"SELECT * FROM ADMIN.CART_OPTIMIZATION\",con)"
   ]
  },
  {
   "cell_type": "code",
   "execution_count": 9,
   "metadata": {},
   "outputs": [
    {
     "data": {
      "text/html": [
       "<div>\n",
       "<style scoped>\n",
       "    .dataframe tbody tr th:only-of-type {\n",
       "        vertical-align: middle;\n",
       "    }\n",
       "\n",
       "    .dataframe tbody tr th {\n",
       "        vertical-align: top;\n",
       "    }\n",
       "\n",
       "    .dataframe thead th {\n",
       "        text-align: right;\n",
       "    }\n",
       "</style>\n",
       "<table border=\"1\" class=\"dataframe\">\n",
       "  <thead>\n",
       "    <tr style=\"text-align: right;\">\n",
       "      <th></th>\n",
       "      <th>BRANCH_ID</th>\n",
       "      <th>ITEM_ID</th>\n",
       "      <th>ITEM_NAME</th>\n",
       "      <th>ITEM_CATEGORY_ID</th>\n",
       "      <th>ITEM_PROMOTION_ID</th>\n",
       "      <th>IS_PROMOTION</th>\n",
       "      <th>PROMOTION_ID</th>\n",
       "      <th>PROMOTION_NAME</th>\n",
       "      <th>PROMOTION_ON_BRANCH_OR_ITEM</th>\n",
       "      <th>ITEM_PROMOTION_TYPE</th>\n",
       "      <th>BUY_ITEMS</th>\n",
       "      <th>FREE_ITEMS</th>\n",
       "      <th>TOTAL_ITEM</th>\n",
       "      <th>DISCOUNT</th>\n",
       "      <th>VALUE</th>\n",
       "      <th>PROMOTIONAL_PRICE</th>\n",
       "      <th>ITEM_PRICE</th>\n",
       "    </tr>\n",
       "  </thead>\n",
       "  <tbody>\n",
       "    <tr>\n",
       "      <th>0</th>\n",
       "      <td>0415b61c72e24533b33c2d0b0f1a5ebf</td>\n",
       "      <td>2c9180837764bdd2017764bf96424c10</td>\n",
       "      <td>¿¿¿¿¿¿¿¿¿¿¿19499</td>\n",
       "      <td>8fa6ff1038e7474d9041eb2deefa316c</td>\n",
       "      <td>None</td>\n",
       "      <td>0</td>\n",
       "      <td>None</td>\n",
       "      <td>None</td>\n",
       "      <td>None</td>\n",
       "      <td>None</td>\n",
       "      <td>NaN</td>\n",
       "      <td>NaN</td>\n",
       "      <td>NaN</td>\n",
       "      <td>NaN</td>\n",
       "      <td>NaN</td>\n",
       "      <td>0.5</td>\n",
       "      <td>0.5</td>\n",
       "    </tr>\n",
       "    <tr>\n",
       "      <th>1</th>\n",
       "      <td>0415b61c72e24533b33c2d0b0f1a5ebf</td>\n",
       "      <td>2c9180837764bdd2017764bf96424c11</td>\n",
       "      <td>¿¿¿¿¿¿¿¿¿¿¿19500</td>\n",
       "      <td>8fa6ff1038e7474d9041eb2deefa316c</td>\n",
       "      <td>None</td>\n",
       "      <td>0</td>\n",
       "      <td>None</td>\n",
       "      <td>None</td>\n",
       "      <td>None</td>\n",
       "      <td>None</td>\n",
       "      <td>NaN</td>\n",
       "      <td>NaN</td>\n",
       "      <td>NaN</td>\n",
       "      <td>NaN</td>\n",
       "      <td>NaN</td>\n",
       "      <td>0.5</td>\n",
       "      <td>0.5</td>\n",
       "    </tr>\n",
       "    <tr>\n",
       "      <th>2</th>\n",
       "      <td>0415b61c72e24533b33c2d0b0f1a5ebf</td>\n",
       "      <td>2c9180837764bdd2017764bf96424c12</td>\n",
       "      <td>¿¿¿¿¿¿¿¿¿¿¿19501</td>\n",
       "      <td>8fa6ff1038e7474d9041eb2deefa316c</td>\n",
       "      <td>None</td>\n",
       "      <td>0</td>\n",
       "      <td>None</td>\n",
       "      <td>None</td>\n",
       "      <td>None</td>\n",
       "      <td>None</td>\n",
       "      <td>NaN</td>\n",
       "      <td>NaN</td>\n",
       "      <td>NaN</td>\n",
       "      <td>NaN</td>\n",
       "      <td>NaN</td>\n",
       "      <td>0.5</td>\n",
       "      <td>0.5</td>\n",
       "    </tr>\n",
       "    <tr>\n",
       "      <th>3</th>\n",
       "      <td>0415b61c72e24533b33c2d0b0f1a5ebf</td>\n",
       "      <td>2c9180837764bdd2017764bf96424c13</td>\n",
       "      <td>¿¿¿¿¿¿¿¿¿¿¿19502</td>\n",
       "      <td>8fa6ff1038e7474d9041eb2deefa316c</td>\n",
       "      <td>None</td>\n",
       "      <td>0</td>\n",
       "      <td>None</td>\n",
       "      <td>None</td>\n",
       "      <td>None</td>\n",
       "      <td>None</td>\n",
       "      <td>NaN</td>\n",
       "      <td>NaN</td>\n",
       "      <td>NaN</td>\n",
       "      <td>NaN</td>\n",
       "      <td>NaN</td>\n",
       "      <td>0.5</td>\n",
       "      <td>0.5</td>\n",
       "    </tr>\n",
       "    <tr>\n",
       "      <th>4</th>\n",
       "      <td>0415b61c72e24533b33c2d0b0f1a5ebf</td>\n",
       "      <td>2c9180837764bdd2017764bf96424c14</td>\n",
       "      <td>¿¿¿¿¿¿¿¿¿¿¿19503</td>\n",
       "      <td>8fa6ff1038e7474d9041eb2deefa316c</td>\n",
       "      <td>None</td>\n",
       "      <td>0</td>\n",
       "      <td>None</td>\n",
       "      <td>None</td>\n",
       "      <td>None</td>\n",
       "      <td>None</td>\n",
       "      <td>NaN</td>\n",
       "      <td>NaN</td>\n",
       "      <td>NaN</td>\n",
       "      <td>NaN</td>\n",
       "      <td>NaN</td>\n",
       "      <td>0.5</td>\n",
       "      <td>0.5</td>\n",
       "    </tr>\n",
       "  </tbody>\n",
       "</table>\n",
       "</div>"
      ],
      "text/plain": [
       "                          BRANCH_ID                           ITEM_ID  \\\n",
       "0  0415b61c72e24533b33c2d0b0f1a5ebf  2c9180837764bdd2017764bf96424c10   \n",
       "1  0415b61c72e24533b33c2d0b0f1a5ebf  2c9180837764bdd2017764bf96424c11   \n",
       "2  0415b61c72e24533b33c2d0b0f1a5ebf  2c9180837764bdd2017764bf96424c12   \n",
       "3  0415b61c72e24533b33c2d0b0f1a5ebf  2c9180837764bdd2017764bf96424c13   \n",
       "4  0415b61c72e24533b33c2d0b0f1a5ebf  2c9180837764bdd2017764bf96424c14   \n",
       "\n",
       "          ITEM_NAME                  ITEM_CATEGORY_ID ITEM_PROMOTION_ID  \\\n",
       "0  ¿¿¿¿¿¿¿¿¿¿¿19499  8fa6ff1038e7474d9041eb2deefa316c              None   \n",
       "1  ¿¿¿¿¿¿¿¿¿¿¿19500  8fa6ff1038e7474d9041eb2deefa316c              None   \n",
       "2  ¿¿¿¿¿¿¿¿¿¿¿19501  8fa6ff1038e7474d9041eb2deefa316c              None   \n",
       "3  ¿¿¿¿¿¿¿¿¿¿¿19502  8fa6ff1038e7474d9041eb2deefa316c              None   \n",
       "4  ¿¿¿¿¿¿¿¿¿¿¿19503  8fa6ff1038e7474d9041eb2deefa316c              None   \n",
       "\n",
       "  IS_PROMOTION PROMOTION_ID PROMOTION_NAME PROMOTION_ON_BRANCH_OR_ITEM  \\\n",
       "0            0         None           None                        None   \n",
       "1            0         None           None                        None   \n",
       "2            0         None           None                        None   \n",
       "3            0         None           None                        None   \n",
       "4            0         None           None                        None   \n",
       "\n",
       "  ITEM_PROMOTION_TYPE  BUY_ITEMS  FREE_ITEMS  TOTAL_ITEM  DISCOUNT  VALUE  \\\n",
       "0                None        NaN         NaN         NaN       NaN    NaN   \n",
       "1                None        NaN         NaN         NaN       NaN    NaN   \n",
       "2                None        NaN         NaN         NaN       NaN    NaN   \n",
       "3                None        NaN         NaN         NaN       NaN    NaN   \n",
       "4                None        NaN         NaN         NaN       NaN    NaN   \n",
       "\n",
       "   PROMOTIONAL_PRICE  ITEM_PRICE  \n",
       "0                0.5         0.5  \n",
       "1                0.5         0.5  \n",
       "2                0.5         0.5  \n",
       "3                0.5         0.5  \n",
       "4                0.5         0.5  "
      ]
     },
     "execution_count": 9,
     "metadata": {},
     "output_type": "execute_result"
    }
   ],
   "source": [
    "df.head()"
   ]
  },
  {
   "cell_type": "code",
   "execution_count": 10,
   "metadata": {},
   "outputs": [],
   "source": [
    "data_frame = pd.DataFrame(df) \n",
    " \n",
    "data_frame.to_csv('Planckly_df_items.csv')"
   ]
  },
  {
   "cell_type": "markdown",
   "metadata": {},
   "source": [
    "# Algo"
   ]
  },
  {
   "cell_type": "markdown",
   "metadata": {},
   "source": [
    "# 1) extract those records which have all item name(input) inclding branchid , quantity_threshold(TOTAL ITEM), unit_price , final_unit_price(PROMOTIONAL PRICE),and having quantity_threshold less than equal to required_quantity for each respective item."
   ]
  },
  {
   "cell_type": "code",
   "execution_count": null,
   "metadata": {},
   "outputs": [],
   "source": []
  },
  {
   "cell_type": "code",
   "execution_count": 26,
   "metadata": {},
   "outputs": [
    {
     "name": "stderr",
     "output_type": "stream",
     "text": [
      "C:\\Users\\user\\Anaconda3\\lib\\site-packages\\IPython\\core\\interactiveshell.py:3057: DtypeWarning: Columns (4,6,8,20,21,32) have mixed types. Specify dtype option on import or set low_memory=False.\n",
      "  interactivity=interactivity, compiler=compiler, result=result)\n"
     ]
    }
   ],
   "source": [
    "itemsdf=pd.read_csv(r'C:\\Users\\user\\Desktop\\Planckly_dataset\\Planckly_Items.csv')\n"
   ]
  },
  {
   "cell_type": "code",
   "execution_count": 27,
   "metadata": {},
   "outputs": [
    {
     "name": "stderr",
     "output_type": "stream",
     "text": [
      "C:\\Users\\user\\Anaconda3\\lib\\site-packages\\IPython\\core\\interactiveshell.py:3057: DtypeWarning: Columns (5,7,8,9,10) have mixed types. Specify dtype option on import or set low_memory=False.\n",
      "  interactivity=interactivity, compiler=compiler, result=result)\n"
     ]
    }
   ],
   "source": [
    "sql_items=pd.read_csv(r'C:\\Users\\user\\Planckly_Items.csv')"
   ]
  },
  {
   "cell_type": "code",
   "execution_count": 28,
   "metadata": {},
   "outputs": [],
   "source": [
    "#dt= itemsdf[['BRANCH_ID','TOTAL_ITEM','ITEM_PRICE','PROMOTIONAL_PRICE','ITEM_NAME']].where(itemsdf['ITEM_NAME'] == item_input )"
   ]
  },
  {
   "cell_type": "code",
   "execution_count": 29,
   "metadata": {},
   "outputs": [
    {
     "data": {
      "text/html": [
       "<div>\n",
       "<style scoped>\n",
       "    .dataframe tbody tr th:only-of-type {\n",
       "        vertical-align: middle;\n",
       "    }\n",
       "\n",
       "    .dataframe tbody tr th {\n",
       "        vertical-align: top;\n",
       "    }\n",
       "\n",
       "    .dataframe thead th {\n",
       "        text-align: right;\n",
       "    }\n",
       "</style>\n",
       "<table border=\"1\" class=\"dataframe\">\n",
       "  <thead>\n",
       "    <tr style=\"text-align: right;\">\n",
       "      <th></th>\n",
       "      <th>BRANCH_ID</th>\n",
       "      <th>ITEM_NAME</th>\n",
       "      <th>PROMOTIONAL_PRICE</th>\n",
       "      <th>ITEM_PRICE</th>\n",
       "    </tr>\n",
       "  </thead>\n",
       "  <tbody>\n",
       "    <tr>\n",
       "      <th>0</th>\n",
       "      <td>0415b61c72e24533b33c2d0b0f1a5ebf</td>\n",
       "      <td>¿¿¿¿¿¿¿¿¿¿¿8325</td>\n",
       "      <td>0.5</td>\n",
       "      <td>0.5</td>\n",
       "    </tr>\n",
       "    <tr>\n",
       "      <th>1</th>\n",
       "      <td>0415b61c72e24533b33c2d0b0f1a5ebf</td>\n",
       "      <td>¿¿¿¿¿¿¿¿¿¿¿8326</td>\n",
       "      <td>0.5</td>\n",
       "      <td>0.5</td>\n",
       "    </tr>\n",
       "    <tr>\n",
       "      <th>2</th>\n",
       "      <td>0415b61c72e24533b33c2d0b0f1a5ebf</td>\n",
       "      <td>¿¿¿¿¿¿¿¿¿¿¿8327</td>\n",
       "      <td>0.5</td>\n",
       "      <td>0.5</td>\n",
       "    </tr>\n",
       "    <tr>\n",
       "      <th>3</th>\n",
       "      <td>0415b61c72e24533b33c2d0b0f1a5ebf</td>\n",
       "      <td>¿¿¿¿¿¿¿¿¿¿¿8328</td>\n",
       "      <td>0.5</td>\n",
       "      <td>0.5</td>\n",
       "    </tr>\n",
       "    <tr>\n",
       "      <th>4</th>\n",
       "      <td>0415b61c72e24533b33c2d0b0f1a5ebf</td>\n",
       "      <td>¿¿¿¿¿¿¿¿¿¿¿8329</td>\n",
       "      <td>0.5</td>\n",
       "      <td>0.5</td>\n",
       "    </tr>\n",
       "  </tbody>\n",
       "</table>\n",
       "</div>"
      ],
      "text/plain": [
       "                          BRANCH_ID        ITEM_NAME  PROMOTIONAL_PRICE  \\\n",
       "0  0415b61c72e24533b33c2d0b0f1a5ebf  ¿¿¿¿¿¿¿¿¿¿¿8325                0.5   \n",
       "1  0415b61c72e24533b33c2d0b0f1a5ebf  ¿¿¿¿¿¿¿¿¿¿¿8326                0.5   \n",
       "2  0415b61c72e24533b33c2d0b0f1a5ebf  ¿¿¿¿¿¿¿¿¿¿¿8327                0.5   \n",
       "3  0415b61c72e24533b33c2d0b0f1a5ebf  ¿¿¿¿¿¿¿¿¿¿¿8328                0.5   \n",
       "4  0415b61c72e24533b33c2d0b0f1a5ebf  ¿¿¿¿¿¿¿¿¿¿¿8329                0.5   \n",
       "\n",
       "   ITEM_PRICE  \n",
       "0         0.5  \n",
       "1         0.5  \n",
       "2         0.5  \n",
       "3         0.5  \n",
       "4         0.5  "
      ]
     },
     "execution_count": 29,
     "metadata": {},
     "output_type": "execute_result"
    }
   ],
   "source": [
    "df= sql_items[['BRANCH_ID','ITEM_NAME','PROMOTIONAL_PRICE','ITEM_PRICE']]\n",
    "df.head()"
   ]
  },
  {
   "cell_type": "code",
   "execution_count": 30,
   "metadata": {},
   "outputs": [
    {
     "name": "stderr",
     "output_type": "stream",
     "text": [
      "C:\\Users\\user\\Anaconda3\\lib\\site-packages\\ipykernel_launcher.py:2: SettingWithCopyWarning: \n",
      "A value is trying to be set on a copy of a slice from a DataFrame.\n",
      "Try using .loc[row_indexer,col_indexer] = value instead\n",
      "\n",
      "See the caveats in the documentation: http://pandas.pydata.org/pandas-docs/stable/indexing.html#indexing-view-versus-copy\n",
      "  \n"
     ]
    }
   ],
   "source": [
    "#df=itemsdf[['BRANCH_ID','NAME','STOCK']]\n",
    "df['STOCK']=itemsdf[['STOCK']]"
   ]
  },
  {
   "cell_type": "code",
   "execution_count": 310,
   "metadata": {},
   "outputs": [
    {
     "data": {
      "text/html": [
       "<div>\n",
       "<style scoped>\n",
       "    .dataframe tbody tr th:only-of-type {\n",
       "        vertical-align: middle;\n",
       "    }\n",
       "\n",
       "    .dataframe tbody tr th {\n",
       "        vertical-align: top;\n",
       "    }\n",
       "\n",
       "    .dataframe thead th {\n",
       "        text-align: right;\n",
       "    }\n",
       "</style>\n",
       "<table border=\"1\" class=\"dataframe\">\n",
       "  <thead>\n",
       "    <tr style=\"text-align: right;\">\n",
       "      <th></th>\n",
       "      <th>BRANCH_ID</th>\n",
       "      <th>ITEM_NAME</th>\n",
       "      <th>PROMOTIONAL_PRICE</th>\n",
       "      <th>ITEM_PRICE</th>\n",
       "      <th>STOCK</th>\n",
       "    </tr>\n",
       "  </thead>\n",
       "  <tbody>\n",
       "    <tr>\n",
       "      <th>0</th>\n",
       "      <td>0415b61c72e24533b33c2d0b0f1a5ebf</td>\n",
       "      <td>¿¿¿¿¿¿¿¿¿¿¿8325</td>\n",
       "      <td>0.5</td>\n",
       "      <td>0.5</td>\n",
       "      <td>100</td>\n",
       "    </tr>\n",
       "    <tr>\n",
       "      <th>1</th>\n",
       "      <td>0415b61c72e24533b33c2d0b0f1a5ebf</td>\n",
       "      <td>¿¿¿¿¿¿¿¿¿¿¿8326</td>\n",
       "      <td>0.5</td>\n",
       "      <td>0.5</td>\n",
       "      <td>100</td>\n",
       "    </tr>\n",
       "    <tr>\n",
       "      <th>2</th>\n",
       "      <td>0415b61c72e24533b33c2d0b0f1a5ebf</td>\n",
       "      <td>¿¿¿¿¿¿¿¿¿¿¿8327</td>\n",
       "      <td>0.5</td>\n",
       "      <td>0.5</td>\n",
       "      <td>100</td>\n",
       "    </tr>\n",
       "    <tr>\n",
       "      <th>3</th>\n",
       "      <td>0415b61c72e24533b33c2d0b0f1a5ebf</td>\n",
       "      <td>¿¿¿¿¿¿¿¿¿¿¿8328</td>\n",
       "      <td>0.5</td>\n",
       "      <td>0.5</td>\n",
       "      <td>100</td>\n",
       "    </tr>\n",
       "    <tr>\n",
       "      <th>4</th>\n",
       "      <td>0415b61c72e24533b33c2d0b0f1a5ebf</td>\n",
       "      <td>¿¿¿¿¿¿¿¿¿¿¿8329</td>\n",
       "      <td>0.5</td>\n",
       "      <td>0.5</td>\n",
       "      <td>100</td>\n",
       "    </tr>\n",
       "  </tbody>\n",
       "</table>\n",
       "</div>"
      ],
      "text/plain": [
       "                          BRANCH_ID        ITEM_NAME  PROMOTIONAL_PRICE  \\\n",
       "0  0415b61c72e24533b33c2d0b0f1a5ebf  ¿¿¿¿¿¿¿¿¿¿¿8325                0.5   \n",
       "1  0415b61c72e24533b33c2d0b0f1a5ebf  ¿¿¿¿¿¿¿¿¿¿¿8326                0.5   \n",
       "2  0415b61c72e24533b33c2d0b0f1a5ebf  ¿¿¿¿¿¿¿¿¿¿¿8327                0.5   \n",
       "3  0415b61c72e24533b33c2d0b0f1a5ebf  ¿¿¿¿¿¿¿¿¿¿¿8328                0.5   \n",
       "4  0415b61c72e24533b33c2d0b0f1a5ebf  ¿¿¿¿¿¿¿¿¿¿¿8329                0.5   \n",
       "\n",
       "   ITEM_PRICE  STOCK  \n",
       "0         0.5    100  \n",
       "1         0.5    100  \n",
       "2         0.5    100  \n",
       "3         0.5    100  \n",
       "4         0.5    100  "
      ]
     },
     "execution_count": 310,
     "metadata": {},
     "output_type": "execute_result"
    }
   ],
   "source": [
    "df.head()"
   ]
  },
  {
   "cell_type": "code",
   "execution_count": 1,
   "metadata": {},
   "outputs": [],
   "source": [
    "#get_rankings(userInput,df)"
   ]
  },
  {
   "cell_type": "code",
   "execution_count": 2,
   "metadata": {},
   "outputs": [],
   "source": [
    "# userInput = [\n",
    "#             {'NAME':'¿¿¿¿¿¿¿¿¿¿¿8325','QUANTITY':5},\n",
    "#             {'NAME':'¿¿¿¿¿¿¿¿¿¿¿8326', 'QUANTITY':3},\n",
    "#             {'NAME':'¿¿¿¿¿¿¿¿¿¿¿8327', 'QUANTITY':2},\n",
    "#             {'NAME':\"¿¿¿¿¿¿¿¿¿¿¿8329\", 'QUANTITY':5},\n",
    "#             {'NAME':'¿¿¿¿¿¿¿¿¿¿¿8328', 'QUANTITY':4}\n",
    "#          ] \n",
    "# input_items = pd.DataFrame(userInput)\n",
    "# input_items"
   ]
  },
  {
   "cell_type": "code",
   "execution_count": 3,
   "metadata": {},
   "outputs": [],
   "source": [
    "#inputId= df[df['ITEM_NAME'].isin(input_items['NAME'].tolist())]"
   ]
  },
  {
   "cell_type": "code",
   "execution_count": 4,
   "metadata": {},
   "outputs": [],
   "source": [
    "# inputId.sort_index(inplace=True)\n",
    "# inputId\n"
   ]
  },
  {
   "cell_type": "code",
   "execution_count": 5,
   "metadata": {},
   "outputs": [],
   "source": [
    "#inputId['STOCK'] <= input_items['QUANTITY']"
   ]
  },
  {
   "cell_type": "code",
   "execution_count": 6,
   "metadata": {},
   "outputs": [],
   "source": [
    "# fixed=inputId['BRANCH_ID'].unique()\n",
    "# fixed"
   ]
  },
  {
   "cell_type": "code",
   "execution_count": 7,
   "metadata": {},
   "outputs": [],
   "source": [
    "# len(fixed)"
   ]
  },
  {
   "cell_type": "code",
   "execution_count": 8,
   "metadata": {},
   "outputs": [],
   "source": [
    "# fixed[4]"
   ]
  },
  {
   "cell_type": "code",
   "execution_count": 9,
   "metadata": {},
   "outputs": [],
   "source": [
    "# inputId=inputId.loc[inputId[\"BRANCH_ID\"]== fixed[0]]\n",
    "# #a['NAME'] == inputId.count()\n",
    "# inputId"
   ]
  },
  {
   "cell_type": "code",
   "execution_count": 10,
   "metadata": {},
   "outputs": [],
   "source": [
    "# filterinfDataframe = inputId[(inputId['STOCK'] <= 100 ) ]\n",
    "# filterinfDataframe "
   ]
  },
  {
   "cell_type": "code",
   "execution_count": 11,
   "metadata": {},
   "outputs": [],
   "source": [
    "# k=[]\n",
    "# for i, j in filterinfDataframe.iterrows():\n",
    "#     k.append(j['STOCK']-4)"
   ]
  },
  {
   "cell_type": "code",
   "execution_count": 12,
   "metadata": {},
   "outputs": [],
   "source": [
    "#filterinfDataframe['left_quantity']=k"
   ]
  },
  {
   "cell_type": "code",
   "execution_count": null,
   "metadata": {},
   "outputs": [],
   "source": []
  },
  {
   "cell_type": "code",
   "execution_count": 13,
   "metadata": {},
   "outputs": [],
   "source": [
    "# filterinfDataframe['sub_quantity'] = 4\n",
    "# filterinfDataframe = filterinfDataframe[(filterinfDataframe['sub_quantity'] <= 100 ) ]"
   ]
  },
  {
   "cell_type": "code",
   "execution_count": null,
   "metadata": {},
   "outputs": [],
   "source": []
  },
  {
   "cell_type": "code",
   "execution_count": 14,
   "metadata": {},
   "outputs": [],
   "source": [
    "# filterinfDataframe"
   ]
  },
  {
   "cell_type": "code",
   "execution_count": 15,
   "metadata": {},
   "outputs": [],
   "source": [
    "# filterinfDataframe['Quotient']=filterinfDataframe['left_quantity'] / filterinfDataframe['sub_quantity']"
   ]
  },
  {
   "cell_type": "code",
   "execution_count": 16,
   "metadata": {},
   "outputs": [],
   "source": [
    "# filterinfDataframe"
   ]
  },
  {
   "cell_type": "code",
   "execution_count": 17,
   "metadata": {},
   "outputs": [],
   "source": [
    "# filterinfDataframe['left_quantity']= filterinfDataframe['left_quantity']-(filterinfDataframe['Quotient']*filterinfDataframe['sub_quantity'])"
   ]
  },
  {
   "cell_type": "code",
   "execution_count": 18,
   "metadata": {},
   "outputs": [],
   "source": [
    "# filterinfDataframe"
   ]
  },
  {
   "cell_type": "code",
   "execution_count": 19,
   "metadata": {},
   "outputs": [],
   "source": [
    "# ind=0\n",
    "# for i, j in filterinfDataframe.iterrows():\n",
    "#     if j['left_quantity']!=0 :\n",
    "#         filterinfDataframe['required_quantity']=filterinfDataframe['ITEM_PRICE'].min() * filterinfDataframe['left_quantity']\n",
    "#     else:\n",
    "#         x=len(fixed)\n",
    "#         for i in range(len(fixed)):\n",
    "#             ind=i\n",
    "#             print(fixed[ind])\n",
    "\n",
    "            "
   ]
  },
  {
   "cell_type": "code",
   "execution_count": 21,
   "metadata": {},
   "outputs": [],
   "source": [
    "def item_optimization(itemName,RequiredQuantity):\n",
    "    k=[]\n",
    "    ind=0\n",
    "    \n",
    "    '''Extract those records which have all item names, quantity threshold less than equal to required quantity'''\n",
    "    inputId= df[df['ITEM_NAME'].isin([itemName])]#isin(input_items['NAME'].tolist())] <===== replace this line after .isin if input is df \n",
    "    inputId=inputId[(inputId['STOCK'] <= RequiredQuantity)]\n",
    "    inputId.reset_index()\n",
    "    \n",
    "    '''fixed tha unique branch id,iterate over each item name given input'''\n",
    "    fixed=inputId['BRANCH_ID'].unique()\n",
    "    output=inputId.loc[inputId[\"BRANCH_ID\"]== fixed[ind]]\n",
    "    output1=output[output['ITEM_NAME'].isin([itemName])] #<=== Replace if input is df\n",
    "    \n",
    "    '''now for every record start iterate on each quantity_threshold (atm we must have only 1): 15 : 27 zada my hamsehsa sasta huga! hamari assumption\n",
    "                                initialize left_quantity by required_quantity'''\n",
    "    filterinfDataframe = output1#[(output1['STOCK'] <= RequiredQuantity ) ] \n",
    "    for i, j in filterinfDataframe.iterrows():\n",
    "        k.append(RequiredQuantity - j['STOCK'])\n",
    "    filterinfDataframe['left_quantity']=k\n",
    "    \n",
    "    ''' iterate over every sub_quantity_threshold which are less than equal to  quantity_threshold '''\n",
    "    filterinfDataframe['sub_quantity'] = RequiredQuantity\n",
    "    filterinfDataframe = filterinfDataframe[(filterinfDataframe['sub_quantity'] <= RequiredQuantity ) ]\n",
    "    filterinfDataframe['Quotient']=filterinfDataframe['left_quantity'] / filterinfDataframe['sub_quantity']\n",
    "    filterinfDataframe['Left_quantity']=  (filterinfDataframe['Quotient']*filterinfDataframe['sub_quantity'])- filterinfDataframe['left_quantity'] \n",
    "    \n",
    "    for i, j in filterinfDataframe.iterrows():\n",
    "        if j['left_quantity']!=0 :\n",
    "            filterinfDataframe['required_quantity']=filterinfDataframe['ITEM_PRICE'].min() * filterinfDataframe['left_quantity']\n",
    "        else:\n",
    "            x=len(fixed)\n",
    "            for i in range(len(fixed)):\n",
    "                ind=i\n",
    "    return filterinfDataframe"
   ]
  },
  {
   "cell_type": "code",
   "execution_count": null,
   "metadata": {},
   "outputs": [],
   "source": []
  },
  {
   "cell_type": "code",
   "execution_count": 32,
   "metadata": {},
   "outputs": [
    {
     "data": {
      "text/html": [
       "<div>\n",
       "<style scoped>\n",
       "    .dataframe tbody tr th:only-of-type {\n",
       "        vertical-align: middle;\n",
       "    }\n",
       "\n",
       "    .dataframe tbody tr th {\n",
       "        vertical-align: top;\n",
       "    }\n",
       "\n",
       "    .dataframe thead th {\n",
       "        text-align: right;\n",
       "    }\n",
       "</style>\n",
       "<table border=\"1\" class=\"dataframe\">\n",
       "  <thead>\n",
       "    <tr style=\"text-align: right;\">\n",
       "      <th></th>\n",
       "      <th>BRANCH_ID</th>\n",
       "      <th>ITEM_NAME</th>\n",
       "      <th>PROMOTIONAL_PRICE</th>\n",
       "      <th>ITEM_PRICE</th>\n",
       "      <th>STOCK</th>\n",
       "      <th>left_quantity</th>\n",
       "      <th>sub_quantity</th>\n",
       "      <th>Quotient</th>\n",
       "      <th>Left_quantity</th>\n",
       "      <th>required_quantity</th>\n",
       "    </tr>\n",
       "  </thead>\n",
       "  <tbody>\n",
       "    <tr>\n",
       "      <th>15125</th>\n",
       "      <td>9d5da95725ff4cd88e3c5d61bfead1f0</td>\n",
       "      <td>¿¿¿¿¿¿¿¿¿¿¿8327</td>\n",
       "      <td>0.5</td>\n",
       "      <td>0.5</td>\n",
       "      <td>10</td>\n",
       "      <td>89</td>\n",
       "      <td>99</td>\n",
       "      <td>0.89899</td>\n",
       "      <td>0.0</td>\n",
       "      <td>44.5</td>\n",
       "    </tr>\n",
       "    <tr>\n",
       "      <th>33374</th>\n",
       "      <td>9d5da95725ff4cd88e3c5d61bfead1f0</td>\n",
       "      <td>¿¿¿¿¿¿¿¿¿¿¿8327</td>\n",
       "      <td>0.5</td>\n",
       "      <td>0.5</td>\n",
       "      <td>10</td>\n",
       "      <td>89</td>\n",
       "      <td>99</td>\n",
       "      <td>0.89899</td>\n",
       "      <td>0.0</td>\n",
       "      <td>44.5</td>\n",
       "    </tr>\n",
       "  </tbody>\n",
       "</table>\n",
       "</div>"
      ],
      "text/plain": [
       "                              BRANCH_ID        ITEM_NAME  PROMOTIONAL_PRICE  \\\n",
       "15125  9d5da95725ff4cd88e3c5d61bfead1f0  ¿¿¿¿¿¿¿¿¿¿¿8327                0.5   \n",
       "33374  9d5da95725ff4cd88e3c5d61bfead1f0  ¿¿¿¿¿¿¿¿¿¿¿8327                0.5   \n",
       "\n",
       "       ITEM_PRICE  STOCK  left_quantity  sub_quantity  Quotient  \\\n",
       "15125         0.5     10             89            99   0.89899   \n",
       "33374         0.5     10             89            99   0.89899   \n",
       "\n",
       "       Left_quantity  required_quantity  \n",
       "15125            0.0               44.5  \n",
       "33374            0.0               44.5  "
      ]
     },
     "execution_count": 32,
     "metadata": {},
     "output_type": "execute_result"
    }
   ],
   "source": [
    "\n",
    "item_optimization('¿¿¿¿¿¿¿¿¿¿¿8327',99)"
   ]
  },
  {
   "cell_type": "code",
   "execution_count": null,
   "metadata": {},
   "outputs": [],
   "source": []
  },
  {
   "cell_type": "code",
   "execution_count": null,
   "metadata": {},
   "outputs": [],
   "source": []
  }
 ],
 "metadata": {
  "kernelspec": {
   "display_name": "Python 3",
   "language": "python",
   "name": "python3"
  },
  "language_info": {
   "codemirror_mode": {
    "name": "ipython",
    "version": 3
   },
   "file_extension": ".py",
   "mimetype": "text/x-python",
   "name": "python",
   "nbconvert_exporter": "python",
   "pygments_lexer": "ipython3",
   "version": "3.7.3"
  }
 },
 "nbformat": 4,
 "nbformat_minor": 2
}
